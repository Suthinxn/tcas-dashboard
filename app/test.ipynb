{
 "cells": [
  {
   "cell_type": "code",
   "execution_count": null,
   "id": "6df757a3",
   "metadata": {},
   "outputs": [],
   "source": [
    "import pandas as pd\n",
    "\n",
    "data = pd.read_excel(\"data/filtered_ai_com_courses.xlsx\")\n",
    "\n",
    "\n",
    "\n",
    "data[\"info\"] = data[\"university_type_name_th\"] + data[\"program_name_th\"] + data[\"program_type_name_th\"]\n",
    "\n",
    "data.to_excel('data/final_filtered_ai_com_courses.xlsx', index=False)"
   ]
  }
 ],
 "metadata": {
  "kernelspec": {
   "display_name": "tcas-dashboard-W3Lc74pl-py3.11",
   "language": "python",
   "name": "python3"
  },
  "language_info": {
   "codemirror_mode": {
    "name": "ipython",
    "version": 3
   },
   "file_extension": ".py",
   "mimetype": "text/x-python",
   "name": "python",
   "nbconvert_exporter": "python",
   "pygments_lexer": "ipython3",
   "version": "3.11.5"
  }
 },
 "nbformat": 4,
 "nbformat_minor": 5
}
